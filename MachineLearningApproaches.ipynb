{
 "cells": [
  {
   "cell_type": "code",
   "execution_count": 1,
   "metadata": {},
   "outputs": [
    {
     "name": "stderr",
     "output_type": "stream",
     "text": [
      "2025-01-16 14:12:37.941800: I tensorflow/core/platform/cpu_feature_guard.cc:210] This TensorFlow binary is optimized to use available CPU instructions in performance-critical operations.\n",
      "To enable the following instructions: AVX2 FMA, in other operations, rebuild TensorFlow with the appropriate compiler flags.\n"
     ]
    }
   ],
   "source": [
    "\n",
    "\"\"\"\n",
    "This section of the code imports necessary libraries and modules for data manipulation, visualization, \n",
    "machine learning model building, evaluation, and deep learning.\n",
    "\n",
    "Libraries and Modules:\n",
    "- pandas: For data manipulation and analysis.\n",
    "- numpy: For numerical operations.\n",
    "- matplotlib.pyplot: For data visualization.\n",
    "- seaborn: For statistical data visualization.\n",
    "- sklearn.model_selection: For splitting data into training and testing sets.\n",
    "- sklearn.metrics: For evaluating machine learning models using various metrics.\n",
    "- sklearn.ensemble: For ensemble machine learning methods like RandomForest and GradientBoosting.\n",
    "- sklearn.svm: For Support Vector Machine classifier.\n",
    "- sklearn.tree: For Decision Tree classifier.\n",
    "- sklearn.neighbors: For K-Nearest Neighbors classifier.\n",
    "- tensorflow.keras: For building and training deep learning models using Sequential API.\n",
    "\"\"\"\n",
    "import pandas as pd\n",
    "import numpy as np\n",
    "import matplotlib.pyplot as plt\n",
    "import seaborn as sns\n",
    "\n",
    "from sklearn.model_selection import train_test_split\n",
    "from sklearn.preprocessing import LabelEncoder\n",
    "\n",
    "from sklearn.metrics import confusion_matrix\n",
    "from sklearn.metrics import accuracy_score, precision_score, recall_score, f1_score\n",
    "from sklearn.metrics import roc_curve, roc_auc_score\n",
    "from sklearn.metrics import precision_recall_curve, auc\n",
    "from sklearn.ensemble import RandomForestClassifier\n",
    "from sklearn.model_selection import GridSearchCV\n",
    "from sklearn.ensemble import GradientBoostingClassifier\n",
    "from sklearn.svm import SVC\n",
    "from sklearn.tree import DecisionTreeClassifier\n",
    "\n",
    "from sklearn.neighbors import KNeighborsClassifier\n",
    "from sklearn.model_selection import cross_val_score\n",
    "\n",
    "from xgboost import XGBClassifier\n",
    "\n",
    "\n",
    "from keras.models import Sequential\n",
    "from keras.layers import Dense, Dropout"
   ]
  },
  {
   "cell_type": "code",
   "execution_count": 2,
   "metadata": {},
   "outputs": [
    {
     "data": {
      "text/html": [
       "<div>\n",
       "<style scoped>\n",
       "    .dataframe tbody tr th:only-of-type {\n",
       "        vertical-align: middle;\n",
       "    }\n",
       "\n",
       "    .dataframe tbody tr th {\n",
       "        vertical-align: top;\n",
       "    }\n",
       "\n",
       "    .dataframe thead th {\n",
       "        text-align: right;\n",
       "    }\n",
       "</style>\n",
       "<table border=\"1\" class=\"dataframe\">\n",
       "  <thead>\n",
       "    <tr style=\"text-align: right;\">\n",
       "      <th></th>\n",
       "      <th>id</th>\n",
       "      <th>Gender</th>\n",
       "      <th>Age</th>\n",
       "      <th>Height</th>\n",
       "      <th>Weight</th>\n",
       "      <th>family_history_with_overweight</th>\n",
       "      <th>FAVC</th>\n",
       "      <th>FCVC</th>\n",
       "      <th>NCP</th>\n",
       "      <th>CAEC</th>\n",
       "      <th>SMOKE</th>\n",
       "      <th>CH2O</th>\n",
       "      <th>SCC</th>\n",
       "      <th>FAF</th>\n",
       "      <th>TUE</th>\n",
       "      <th>CALC</th>\n",
       "      <th>MTRANS</th>\n",
       "      <th>NObeyesdad</th>\n",
       "    </tr>\n",
       "  </thead>\n",
       "  <tbody>\n",
       "    <tr>\n",
       "      <th>0</th>\n",
       "      <td>0</td>\n",
       "      <td>Male</td>\n",
       "      <td>24.443011</td>\n",
       "      <td>1.699998</td>\n",
       "      <td>81.669950</td>\n",
       "      <td>yes</td>\n",
       "      <td>yes</td>\n",
       "      <td>2.000000</td>\n",
       "      <td>2.983297</td>\n",
       "      <td>Sometimes</td>\n",
       "      <td>no</td>\n",
       "      <td>2.763573</td>\n",
       "      <td>no</td>\n",
       "      <td>0.000000</td>\n",
       "      <td>0.976473</td>\n",
       "      <td>Sometimes</td>\n",
       "      <td>Public_Transportation</td>\n",
       "      <td>Overweight_Level_II</td>\n",
       "    </tr>\n",
       "    <tr>\n",
       "      <th>1</th>\n",
       "      <td>1</td>\n",
       "      <td>Female</td>\n",
       "      <td>18.000000</td>\n",
       "      <td>1.560000</td>\n",
       "      <td>57.000000</td>\n",
       "      <td>yes</td>\n",
       "      <td>yes</td>\n",
       "      <td>2.000000</td>\n",
       "      <td>3.000000</td>\n",
       "      <td>Frequently</td>\n",
       "      <td>no</td>\n",
       "      <td>2.000000</td>\n",
       "      <td>no</td>\n",
       "      <td>1.000000</td>\n",
       "      <td>1.000000</td>\n",
       "      <td>no</td>\n",
       "      <td>Automobile</td>\n",
       "      <td>Normal_Weight</td>\n",
       "    </tr>\n",
       "    <tr>\n",
       "      <th>2</th>\n",
       "      <td>2</td>\n",
       "      <td>Female</td>\n",
       "      <td>18.000000</td>\n",
       "      <td>1.711460</td>\n",
       "      <td>50.165754</td>\n",
       "      <td>yes</td>\n",
       "      <td>yes</td>\n",
       "      <td>1.880534</td>\n",
       "      <td>1.411685</td>\n",
       "      <td>Sometimes</td>\n",
       "      <td>no</td>\n",
       "      <td>1.910378</td>\n",
       "      <td>no</td>\n",
       "      <td>0.866045</td>\n",
       "      <td>1.673584</td>\n",
       "      <td>no</td>\n",
       "      <td>Public_Transportation</td>\n",
       "      <td>Insufficient_Weight</td>\n",
       "    </tr>\n",
       "    <tr>\n",
       "      <th>3</th>\n",
       "      <td>3</td>\n",
       "      <td>Female</td>\n",
       "      <td>20.952737</td>\n",
       "      <td>1.710730</td>\n",
       "      <td>131.274851</td>\n",
       "      <td>yes</td>\n",
       "      <td>yes</td>\n",
       "      <td>3.000000</td>\n",
       "      <td>3.000000</td>\n",
       "      <td>Sometimes</td>\n",
       "      <td>no</td>\n",
       "      <td>1.674061</td>\n",
       "      <td>no</td>\n",
       "      <td>1.467863</td>\n",
       "      <td>0.780199</td>\n",
       "      <td>Sometimes</td>\n",
       "      <td>Public_Transportation</td>\n",
       "      <td>Obesity_Type_III</td>\n",
       "    </tr>\n",
       "    <tr>\n",
       "      <th>4</th>\n",
       "      <td>4</td>\n",
       "      <td>Male</td>\n",
       "      <td>31.641081</td>\n",
       "      <td>1.914186</td>\n",
       "      <td>93.798055</td>\n",
       "      <td>yes</td>\n",
       "      <td>yes</td>\n",
       "      <td>2.679664</td>\n",
       "      <td>1.971472</td>\n",
       "      <td>Sometimes</td>\n",
       "      <td>no</td>\n",
       "      <td>1.979848</td>\n",
       "      <td>no</td>\n",
       "      <td>1.967973</td>\n",
       "      <td>0.931721</td>\n",
       "      <td>Sometimes</td>\n",
       "      <td>Public_Transportation</td>\n",
       "      <td>Overweight_Level_II</td>\n",
       "    </tr>\n",
       "  </tbody>\n",
       "</table>\n",
       "</div>"
      ],
      "text/plain": [
       "   id  Gender        Age    Height      Weight family_history_with_overweight  \\\n",
       "0   0    Male  24.443011  1.699998   81.669950                            yes   \n",
       "1   1  Female  18.000000  1.560000   57.000000                            yes   \n",
       "2   2  Female  18.000000  1.711460   50.165754                            yes   \n",
       "3   3  Female  20.952737  1.710730  131.274851                            yes   \n",
       "4   4    Male  31.641081  1.914186   93.798055                            yes   \n",
       "\n",
       "  FAVC      FCVC       NCP        CAEC SMOKE      CH2O SCC       FAF  \\\n",
       "0  yes  2.000000  2.983297   Sometimes    no  2.763573  no  0.000000   \n",
       "1  yes  2.000000  3.000000  Frequently    no  2.000000  no  1.000000   \n",
       "2  yes  1.880534  1.411685   Sometimes    no  1.910378  no  0.866045   \n",
       "3  yes  3.000000  3.000000   Sometimes    no  1.674061  no  1.467863   \n",
       "4  yes  2.679664  1.971472   Sometimes    no  1.979848  no  1.967973   \n",
       "\n",
       "        TUE       CALC                 MTRANS           NObeyesdad  \n",
       "0  0.976473  Sometimes  Public_Transportation  Overweight_Level_II  \n",
       "1  1.000000         no             Automobile        Normal_Weight  \n",
       "2  1.673584         no  Public_Transportation  Insufficient_Weight  \n",
       "3  0.780199  Sometimes  Public_Transportation     Obesity_Type_III  \n",
       "4  0.931721  Sometimes  Public_Transportation  Overweight_Level_II  "
      ]
     },
     "execution_count": 2,
     "metadata": {},
     "output_type": "execute_result"
    }
   ],
   "source": [
    "# Loading the dataset\n",
    "df = pd.read_csv('./train.csv')\n",
    "df.head()"
   ]
  },
  {
   "cell_type": "markdown",
   "metadata": {},
   "source": [
    "# Data Exploration and Preprocessing"
   ]
  },
  {
   "cell_type": "code",
   "execution_count": 3,
   "metadata": {},
   "outputs": [
    {
     "data": {
      "text/plain": [
       "CALC\n",
       "Sometimes     15066\n",
       "no             5163\n",
       "Frequently      529\n",
       "Name: count, dtype: int64"
      ]
     },
     "execution_count": 3,
     "metadata": {},
     "output_type": "execute_result"
    }
   ],
   "source": [
    "df['CALC'].value_counts()"
   ]
  },
  {
   "cell_type": "code",
   "execution_count": 4,
   "metadata": {},
   "outputs": [],
   "source": [
    "# Convert 'Always' category in CALC column to 'Frequently'\n",
    "df['CALC'] = df['CALC'].replace('Always', 'Frequently')\n"
   ]
  },
  {
   "cell_type": "code",
   "execution_count": 5,
   "metadata": {},
   "outputs": [],
   "source": [
    "df.drop(columns=['id'], inplace=True)"
   ]
  },
  {
   "cell_type": "code",
   "execution_count": 6,
   "metadata": {},
   "outputs": [
    {
     "data": {
      "text/html": [
       "<div>\n",
       "<style scoped>\n",
       "    .dataframe tbody tr th:only-of-type {\n",
       "        vertical-align: middle;\n",
       "    }\n",
       "\n",
       "    .dataframe tbody tr th {\n",
       "        vertical-align: top;\n",
       "    }\n",
       "\n",
       "    .dataframe thead th {\n",
       "        text-align: right;\n",
       "    }\n",
       "</style>\n",
       "<table border=\"1\" class=\"dataframe\">\n",
       "  <thead>\n",
       "    <tr style=\"text-align: right;\">\n",
       "      <th></th>\n",
       "      <th>Age</th>\n",
       "      <th>Height</th>\n",
       "      <th>Weight</th>\n",
       "      <th>FCVC</th>\n",
       "      <th>NCP</th>\n",
       "      <th>CH2O</th>\n",
       "      <th>FAF</th>\n",
       "      <th>TUE</th>\n",
       "    </tr>\n",
       "  </thead>\n",
       "  <tbody>\n",
       "    <tr>\n",
       "      <th>count</th>\n",
       "      <td>20758.000000</td>\n",
       "      <td>20758.000000</td>\n",
       "      <td>20758.000000</td>\n",
       "      <td>20758.000000</td>\n",
       "      <td>20758.000000</td>\n",
       "      <td>20758.000000</td>\n",
       "      <td>20758.000000</td>\n",
       "      <td>20758.000000</td>\n",
       "    </tr>\n",
       "    <tr>\n",
       "      <th>mean</th>\n",
       "      <td>23.841804</td>\n",
       "      <td>1.700245</td>\n",
       "      <td>87.887768</td>\n",
       "      <td>2.445908</td>\n",
       "      <td>2.761332</td>\n",
       "      <td>2.029418</td>\n",
       "      <td>0.981747</td>\n",
       "      <td>0.616756</td>\n",
       "    </tr>\n",
       "    <tr>\n",
       "      <th>std</th>\n",
       "      <td>5.688072</td>\n",
       "      <td>0.087312</td>\n",
       "      <td>26.379443</td>\n",
       "      <td>0.533218</td>\n",
       "      <td>0.705375</td>\n",
       "      <td>0.608467</td>\n",
       "      <td>0.838302</td>\n",
       "      <td>0.602113</td>\n",
       "    </tr>\n",
       "    <tr>\n",
       "      <th>min</th>\n",
       "      <td>14.000000</td>\n",
       "      <td>1.450000</td>\n",
       "      <td>39.000000</td>\n",
       "      <td>1.000000</td>\n",
       "      <td>1.000000</td>\n",
       "      <td>1.000000</td>\n",
       "      <td>0.000000</td>\n",
       "      <td>0.000000</td>\n",
       "    </tr>\n",
       "    <tr>\n",
       "      <th>25%</th>\n",
       "      <td>20.000000</td>\n",
       "      <td>1.631856</td>\n",
       "      <td>66.000000</td>\n",
       "      <td>2.000000</td>\n",
       "      <td>3.000000</td>\n",
       "      <td>1.792022</td>\n",
       "      <td>0.008013</td>\n",
       "      <td>0.000000</td>\n",
       "    </tr>\n",
       "    <tr>\n",
       "      <th>50%</th>\n",
       "      <td>22.815416</td>\n",
       "      <td>1.700000</td>\n",
       "      <td>84.064875</td>\n",
       "      <td>2.393837</td>\n",
       "      <td>3.000000</td>\n",
       "      <td>2.000000</td>\n",
       "      <td>1.000000</td>\n",
       "      <td>0.573887</td>\n",
       "    </tr>\n",
       "    <tr>\n",
       "      <th>75%</th>\n",
       "      <td>26.000000</td>\n",
       "      <td>1.762887</td>\n",
       "      <td>111.600553</td>\n",
       "      <td>3.000000</td>\n",
       "      <td>3.000000</td>\n",
       "      <td>2.549617</td>\n",
       "      <td>1.587406</td>\n",
       "      <td>1.000000</td>\n",
       "    </tr>\n",
       "    <tr>\n",
       "      <th>max</th>\n",
       "      <td>61.000000</td>\n",
       "      <td>1.975663</td>\n",
       "      <td>165.057269</td>\n",
       "      <td>3.000000</td>\n",
       "      <td>4.000000</td>\n",
       "      <td>3.000000</td>\n",
       "      <td>3.000000</td>\n",
       "      <td>2.000000</td>\n",
       "    </tr>\n",
       "  </tbody>\n",
       "</table>\n",
       "</div>"
      ],
      "text/plain": [
       "                Age        Height        Weight          FCVC           NCP  \\\n",
       "count  20758.000000  20758.000000  20758.000000  20758.000000  20758.000000   \n",
       "mean      23.841804      1.700245     87.887768      2.445908      2.761332   \n",
       "std        5.688072      0.087312     26.379443      0.533218      0.705375   \n",
       "min       14.000000      1.450000     39.000000      1.000000      1.000000   \n",
       "25%       20.000000      1.631856     66.000000      2.000000      3.000000   \n",
       "50%       22.815416      1.700000     84.064875      2.393837      3.000000   \n",
       "75%       26.000000      1.762887    111.600553      3.000000      3.000000   \n",
       "max       61.000000      1.975663    165.057269      3.000000      4.000000   \n",
       "\n",
       "               CH2O           FAF           TUE  \n",
       "count  20758.000000  20758.000000  20758.000000  \n",
       "mean       2.029418      0.981747      0.616756  \n",
       "std        0.608467      0.838302      0.602113  \n",
       "min        1.000000      0.000000      0.000000  \n",
       "25%        1.792022      0.008013      0.000000  \n",
       "50%        2.000000      1.000000      0.573887  \n",
       "75%        2.549617      1.587406      1.000000  \n",
       "max        3.000000      3.000000      2.000000  "
      ]
     },
     "execution_count": 6,
     "metadata": {},
     "output_type": "execute_result"
    }
   ],
   "source": [
    "df.describe()"
   ]
  },
  {
   "cell_type": "code",
   "execution_count": 7,
   "metadata": {},
   "outputs": [
    {
     "data": {
      "text/plain": [
       "Gender                            0\n",
       "Age                               0\n",
       "Height                            0\n",
       "Weight                            0\n",
       "family_history_with_overweight    0\n",
       "FAVC                              0\n",
       "FCVC                              0\n",
       "NCP                               0\n",
       "CAEC                              0\n",
       "SMOKE                             0\n",
       "CH2O                              0\n",
       "SCC                               0\n",
       "FAF                               0\n",
       "TUE                               0\n",
       "CALC                              0\n",
       "MTRANS                            0\n",
       "NObeyesdad                        0\n",
       "dtype: int64"
      ]
     },
     "execution_count": 7,
     "metadata": {},
     "output_type": "execute_result"
    }
   ],
   "source": [
    "df.isnull().sum()"
   ]
  },
  {
   "cell_type": "code",
   "execution_count": 8,
   "metadata": {},
   "outputs": [
    {
     "data": {
      "text/plain": [
       "Index(['Gender', 'Age', 'Height', 'Weight', 'family_history_with_overweight',\n",
       "       'FAVC', 'FCVC', 'NCP', 'CAEC', 'SMOKE', 'CH2O', 'SCC', 'FAF', 'TUE',\n",
       "       'CALC', 'MTRANS', 'NObeyesdad'],\n",
       "      dtype='object')"
      ]
     },
     "execution_count": 8,
     "metadata": {},
     "output_type": "execute_result"
    }
   ],
   "source": [
    "df.columns"
   ]
  },
  {
   "cell_type": "code",
   "execution_count": 9,
   "metadata": {},
   "outputs": [
    {
     "name": "stdout",
     "output_type": "stream",
     "text": [
      "Gender 2\n",
      "Age 1703\n",
      "Height 1833\n",
      "Weight 1979\n",
      "family_history_with_overweight 2\n",
      "FAVC 2\n",
      "FCVC 934\n",
      "NCP 689\n",
      "CAEC 4\n",
      "SMOKE 2\n",
      "CH2O 1506\n",
      "SCC 2\n",
      "FAF 1360\n",
      "TUE 1297\n",
      "CALC 3\n",
      "MTRANS 5\n",
      "NObeyesdad 7\n"
     ]
    }
   ],
   "source": [
    "for i in df.columns:\n",
    "    print(i, df[i].nunique())"
   ]
  },
  {
   "cell_type": "code",
   "execution_count": 10,
   "metadata": {},
   "outputs": [],
   "source": [
    "\"\"\"\n",
    "This block of code performs label encoding on specified categorical columns in a DataFrame.\n",
    "\n",
    "The columns to be encoded are:\n",
    "- 'Gender'\n",
    "- 'family_history_with_overweight'\n",
    "- 'FAVC'\n",
    "- 'SMOKE'\n",
    "- 'SCC'\n",
    "\n",
    "Label encoding is applied to these columns using the LabelEncoder from sklearn, which converts the categorical values into numeric values.\n",
    "\"\"\"\n",
    "\n",
    "columns_to_encode = ['Gender', 'family_history_with_overweight', 'FAVC', 'SMOKE', 'SCC']\n",
    "\n",
    "le = LabelEncoder()\n",
    "\n",
    "for col in columns_to_encode:\n",
    "    df[col] = le.fit_transform(df[col])\n",
    "\n"
   ]
  },
  {
   "cell_type": "code",
   "execution_count": 11,
   "metadata": {},
   "outputs": [
    {
     "name": "stdout",
     "output_type": "stream",
     "text": [
      "{'Insufficient_Weight': 0, 'Normal_Weight': 1, 'Obesity_Type_I': 2, 'Obesity_Type_II': 3, 'Obesity_Type_III': 4, 'Overweight_Level_I': 5, 'Overweight_Level_II': 6}\n"
     ]
    }
   ],
   "source": [
    "\"\"\"\n",
    "This code snippet encodes the 'NObeyesdad' column of the DataFrame `df` using `LabelEncoder` from scikit-learn.\n",
    "It then prints a dictionary that maps each class in the 'NObeyesdad' column to its corresponding encoded number.\n",
    "\n",
    "Steps:\n",
    "1. Initialize a `LabelEncoder` instance.\n",
    "2. Fit and transform the 'NObeyesdad' column of the DataFrame `df` using the `LabelEncoder`.\n",
    "3. Print a dictionary that shows the mapping of original class labels to their encoded numerical values.\n",
    "\n",
    "Variables:\n",
    "- le: An instance of `LabelEncoder`.\n",
    "- df: A pandas DataFrame containing the 'NObeyesdad' column to be encoded.\n",
    "\n",
    "Output:\n",
    "- A dictionary printed to the console that maps each class label in 'NObeyesdad' to its corresponding encoded number.\n",
    "\"\"\"\n",
    "\n",
    "le = LabelEncoder()\n",
    "df['NObeyesdad'] = le.fit_transform(df['NObeyesdad'])\n",
    "\n",
    "# Print the mapping of original class labels to their encoded numerical values\n",
    "print(dict(zip(le.classes_, le.transform(le.classes_))))\n"
   ]
  },
  {
   "cell_type": "code",
   "execution_count": 12,
   "metadata": {},
   "outputs": [
    {
     "data": {
      "text/html": [
       "<div>\n",
       "<style scoped>\n",
       "    .dataframe tbody tr th:only-of-type {\n",
       "        vertical-align: middle;\n",
       "    }\n",
       "\n",
       "    .dataframe tbody tr th {\n",
       "        vertical-align: top;\n",
       "    }\n",
       "\n",
       "    .dataframe thead th {\n",
       "        text-align: right;\n",
       "    }\n",
       "</style>\n",
       "<table border=\"1\" class=\"dataframe\">\n",
       "  <thead>\n",
       "    <tr style=\"text-align: right;\">\n",
       "      <th></th>\n",
       "      <th>Gender</th>\n",
       "      <th>Age</th>\n",
       "      <th>Height</th>\n",
       "      <th>Weight</th>\n",
       "      <th>family_history_with_overweight</th>\n",
       "      <th>FAVC</th>\n",
       "      <th>FCVC</th>\n",
       "      <th>NCP</th>\n",
       "      <th>CAEC</th>\n",
       "      <th>SMOKE</th>\n",
       "      <th>CH2O</th>\n",
       "      <th>SCC</th>\n",
       "      <th>FAF</th>\n",
       "      <th>TUE</th>\n",
       "      <th>CALC</th>\n",
       "      <th>MTRANS</th>\n",
       "      <th>NObeyesdad</th>\n",
       "    </tr>\n",
       "  </thead>\n",
       "  <tbody>\n",
       "    <tr>\n",
       "      <th>0</th>\n",
       "      <td>1</td>\n",
       "      <td>24.443011</td>\n",
       "      <td>1.699998</td>\n",
       "      <td>81.669950</td>\n",
       "      <td>1</td>\n",
       "      <td>1</td>\n",
       "      <td>2.000000</td>\n",
       "      <td>2.983297</td>\n",
       "      <td>Sometimes</td>\n",
       "      <td>0</td>\n",
       "      <td>2.763573</td>\n",
       "      <td>0</td>\n",
       "      <td>0.000000</td>\n",
       "      <td>0.976473</td>\n",
       "      <td>Sometimes</td>\n",
       "      <td>Public_Transportation</td>\n",
       "      <td>6</td>\n",
       "    </tr>\n",
       "    <tr>\n",
       "      <th>1</th>\n",
       "      <td>0</td>\n",
       "      <td>18.000000</td>\n",
       "      <td>1.560000</td>\n",
       "      <td>57.000000</td>\n",
       "      <td>1</td>\n",
       "      <td>1</td>\n",
       "      <td>2.000000</td>\n",
       "      <td>3.000000</td>\n",
       "      <td>Frequently</td>\n",
       "      <td>0</td>\n",
       "      <td>2.000000</td>\n",
       "      <td>0</td>\n",
       "      <td>1.000000</td>\n",
       "      <td>1.000000</td>\n",
       "      <td>no</td>\n",
       "      <td>Automobile</td>\n",
       "      <td>1</td>\n",
       "    </tr>\n",
       "    <tr>\n",
       "      <th>2</th>\n",
       "      <td>0</td>\n",
       "      <td>18.000000</td>\n",
       "      <td>1.711460</td>\n",
       "      <td>50.165754</td>\n",
       "      <td>1</td>\n",
       "      <td>1</td>\n",
       "      <td>1.880534</td>\n",
       "      <td>1.411685</td>\n",
       "      <td>Sometimes</td>\n",
       "      <td>0</td>\n",
       "      <td>1.910378</td>\n",
       "      <td>0</td>\n",
       "      <td>0.866045</td>\n",
       "      <td>1.673584</td>\n",
       "      <td>no</td>\n",
       "      <td>Public_Transportation</td>\n",
       "      <td>0</td>\n",
       "    </tr>\n",
       "    <tr>\n",
       "      <th>3</th>\n",
       "      <td>0</td>\n",
       "      <td>20.952737</td>\n",
       "      <td>1.710730</td>\n",
       "      <td>131.274851</td>\n",
       "      <td>1</td>\n",
       "      <td>1</td>\n",
       "      <td>3.000000</td>\n",
       "      <td>3.000000</td>\n",
       "      <td>Sometimes</td>\n",
       "      <td>0</td>\n",
       "      <td>1.674061</td>\n",
       "      <td>0</td>\n",
       "      <td>1.467863</td>\n",
       "      <td>0.780199</td>\n",
       "      <td>Sometimes</td>\n",
       "      <td>Public_Transportation</td>\n",
       "      <td>4</td>\n",
       "    </tr>\n",
       "    <tr>\n",
       "      <th>4</th>\n",
       "      <td>1</td>\n",
       "      <td>31.641081</td>\n",
       "      <td>1.914186</td>\n",
       "      <td>93.798055</td>\n",
       "      <td>1</td>\n",
       "      <td>1</td>\n",
       "      <td>2.679664</td>\n",
       "      <td>1.971472</td>\n",
       "      <td>Sometimes</td>\n",
       "      <td>0</td>\n",
       "      <td>1.979848</td>\n",
       "      <td>0</td>\n",
       "      <td>1.967973</td>\n",
       "      <td>0.931721</td>\n",
       "      <td>Sometimes</td>\n",
       "      <td>Public_Transportation</td>\n",
       "      <td>6</td>\n",
       "    </tr>\n",
       "  </tbody>\n",
       "</table>\n",
       "</div>"
      ],
      "text/plain": [
       "   Gender        Age    Height      Weight  family_history_with_overweight  \\\n",
       "0       1  24.443011  1.699998   81.669950                               1   \n",
       "1       0  18.000000  1.560000   57.000000                               1   \n",
       "2       0  18.000000  1.711460   50.165754                               1   \n",
       "3       0  20.952737  1.710730  131.274851                               1   \n",
       "4       1  31.641081  1.914186   93.798055                               1   \n",
       "\n",
       "   FAVC      FCVC       NCP        CAEC  SMOKE      CH2O  SCC       FAF  \\\n",
       "0     1  2.000000  2.983297   Sometimes      0  2.763573    0  0.000000   \n",
       "1     1  2.000000  3.000000  Frequently      0  2.000000    0  1.000000   \n",
       "2     1  1.880534  1.411685   Sometimes      0  1.910378    0  0.866045   \n",
       "3     1  3.000000  3.000000   Sometimes      0  1.674061    0  1.467863   \n",
       "4     1  2.679664  1.971472   Sometimes      0  1.979848    0  1.967973   \n",
       "\n",
       "        TUE       CALC                 MTRANS  NObeyesdad  \n",
       "0  0.976473  Sometimes  Public_Transportation           6  \n",
       "1  1.000000         no             Automobile           1  \n",
       "2  1.673584         no  Public_Transportation           0  \n",
       "3  0.780199  Sometimes  Public_Transportation           4  \n",
       "4  0.931721  Sometimes  Public_Transportation           6  "
      ]
     },
     "execution_count": 12,
     "metadata": {},
     "output_type": "execute_result"
    }
   ],
   "source": [
    "df.head()"
   ]
  },
  {
   "cell_type": "code",
   "execution_count": 13,
   "metadata": {},
   "outputs": [
    {
     "data": {
      "text/plain": [
       "<Axes: >"
      ]
     },
     "execution_count": 13,
     "metadata": {},
     "output_type": "execute_result"
    },
    {
     "data": {
      "image/png": "[encoded data removed]",
      "text/plain": [
       "<Figure size 2000x1000 with 2 Axes>"
      ]
     },
     "metadata": {},
     "output_type": "display_data"
    }
   ],
   "source": [
    "\"\"\"\n",
    "This code snippet selects numerical columns from a DataFrame and generates a heatmap \n",
    "to visualize the correlation between these numerical features.\n",
    "\"\"\"\n",
    "\n",
    "numerical = df.select_dtypes(include=[np.number])\n",
    "plt.figure(figsize=(20, 10))\n",
    "\n",
    "# Generate heatmap for correlation matrix\n",
    "sns.heatmap(numerical.corr(), annot=True)"
   ]
  },
  {
   "cell_type": "code",
   "execution_count": 14,
   "metadata": {},
   "outputs": [
    {
     "data": {
      "text/plain": [
       "Index(['Gender', 'Age', 'Height', 'Weight', 'family_history_with_overweight',\n",
       "       'FAVC', 'FCVC', 'NCP', 'CAEC', 'SMOKE', 'CH2O', 'SCC', 'FAF', 'TUE',\n",
       "       'CALC', 'MTRANS', 'NObeyesdad'],\n",
       "      dtype='object')"
      ]
     },
     "execution_count": 14,
     "metadata": {},
     "output_type": "execute_result"
    }
   ],
   "source": [
    "df.columns"
   ]
  },
  {
   "cell_type": "code",
   "execution_count": 15,
   "metadata": {},
   "outputs": [],
   "source": [
    "# Perform one hot encoding for the categorical columns\n",
    "\n",
    "df = pd.get_dummies(df, columns=['MTRANS', 'CAEC', 'CALC'])"
   ]
  },
  {
   "cell_type": "markdown",
   "metadata": {},
   "source": [
    "# Data Splitting"
   ]
  },
  {
   "cell_type": "code",
   "execution_count": 16,
   "metadata": {},
   "outputs": [],
   "source": [
    "# Split the data into training and testing sets\n",
    "\n",
    "X = df.drop(columns=['NObeyesdad'])\n",
    "y = df['NObeyesdad']\n",
    "\n",
    "X_train, X_test, y_train, y_test = train_test_split(X, y, test_size=0.2, random_state=42)"
   ]
  },
  {
   "cell_type": "code",
   "execution_count": 17,
   "metadata": {},
   "outputs": [
    {
     "data": {
      "text/plain": [
       "NObeyesdad\n",
       "4    4046\n",
       "3    3248\n",
       "1    3082\n",
       "2    2910\n",
       "0    2523\n",
       "6    2522\n",
       "5    2427\n",
       "Name: count, dtype: int64"
      ]
     },
     "execution_count": 17,
     "metadata": {},
     "output_type": "execute_result"
    }
   ],
   "source": [
    "df['NObeyesdad'].value_counts()"
   ]
  },
  {
   "cell_type": "markdown",
   "metadata": {},
   "source": [
    "# Model Training"
   ]
  },
  {
   "cell_type": "code",
   "execution_count": 18,
   "metadata": {},
   "outputs": [
    {
     "name": "stdout",
     "output_type": "stream",
     "text": [
      "Cross-validation accuracy scores: [0.88832029 0.89581451 0.88979223 0.89400783 0.90635351]\n",
      "Accuracy: 0.8952312138728323\n",
      "F1 Score: 0.895202172054519\n"
     ]
    }
   ],
   "source": [
    "\"\"\"\n",
    "Trains a multi-class Random Forest classifier with cross-validation and evaluates its performance.\n",
    "\n",
    "Steps:\n",
    "1. Initializes a Random Forest classifier with 100 estimators and a fixed random state for reproducibility.\n",
    "2. Performs 5-fold cross-validation on the training data and prints the accuracy scores for each fold.\n",
    "3. Fits the Random Forest model on the entire training dataset.\n",
    "4. Predicts the labels for the test dataset.\n",
    "5. Prints the accuracy and weighted F1 score of the model on the test dataset.\n",
    "\n",
    "Variables:\n",
    "- rf: RandomForestClassifier object\n",
    "- scores: List of accuracy scores from cross-validation\n",
    "- y_pred: Predicted labels for the test dataset\n",
    "\n",
    "Functions:\n",
    "- cross_val_score: Evaluates a score by cross-validation\n",
    "- accuracy_score: Computes the accuracy of the model\n",
    "- f1_score: Computes the F1 score of the model\n",
    "\"\"\"\n",
    "\n",
    "rf = RandomForestClassifier(n_estimators=100, random_state=42)\n",
    "scores = cross_val_score(rf, X_train, y_train, cv=5, scoring='accuracy')\n",
    "\n",
    "print(\"Cross-validation accuracy scores:\", scores)\n",
    "\n",
    "# Test the model, print accuracy and F1 Score\n",
    "\n",
    "rf.fit(X_train, y_train)\n",
    "y_pred = rf.predict(X_test)\n",
    "\n",
    "print('Accuracy:', accuracy_score(y_test, y_pred))\n",
    "print('F1 Score:', f1_score(y_test, y_pred, average='weighted'))\n"
   ]
  },
  {
   "cell_type": "code",
   "execution_count": 19,
   "metadata": {},
   "outputs": [
    {
     "name": "stderr",
     "output_type": "stream",
     "text": [
      "/Library/Frameworks/Python.framework/Versions/3.10/lib/python3.10/site-packages/keras/src/layers/core/dense.py:87: UserWarning: Do not pass an `input_shape`/`input_dim` argument to a layer. When using Sequential models, prefer using an `Input(shape)` object as the first layer in the model instead.\n",
      "  super().__init__(activity_regularizer=activity_regularizer, **kwargs)\n"
     ]
    }
   ],
   "source": [
    "\"\"\"\n",
    "This script defines and compiles a neural network model using Keras Sequential API.\n",
    "The model architecture includes:\n",
    "- An input layer with 128 neurons and ReLU activation function.\n",
    "- A dropout layer with a dropout rate of 0.5 to prevent overfitting.\n",
    "- A hidden layer with 64 neurons and ReLU activation function.\n",
    "- A hidden layer with 32 neurons and ReLU activation function.\n",
    "- A hidden layer with 16 neurons and sigmoid activation function.\n",
    "- An output layer with 7 neurons and softmax activation function for multi-class classification.\n",
    "\n",
    "The model is compiled with:\n",
    "- Loss function: sparse_categorical_crossentropy\n",
    "- Optimizer: Adam\n",
    "- Metrics: accuracy and f1_score\n",
    "\"\"\"\n",
    "\n",
    "model = Sequential()\n",
    "model.add(Dense(128, input_dim=X_train.shape[1], activation='relu'))\n",
    "model.add(Dropout(0.5))\n",
    "model.add(Dense(64, activation='relu'))\n",
    "model.add(Dense(32, activation='relu'))\n",
    "model.add(Dense(16, activation='sigmoid'))\n",
    "model.add(Dense(7, activation='softmax'))\n",
    "model.compile(loss='sparse_categorical_crossentropy', optimizer='adam', metrics=['accuracy', 'f1_score'])"
   ]
  },
  {
   "cell_type": "code",
   "execution_count": 20,
   "metadata": {},
   "outputs": [
    {
     "name": "stdout",
     "output_type": "stream",
     "text": [
      "Epoch 1/100\n",
      "\u001b[1m519/519\u001b[0m \u001b[32m━━━━━━━━━━━━━━━━━━━━\u001b[0m\u001b[37m\u001b[0m \u001b[1m2s\u001b[0m 2ms/step - accuracy: 0.2402 - f1_score: 0.2555 - loss: 1.8905 - val_accuracy: 0.4371 - val_f1_score: 0.2586 - val_loss: 1.3843\n",
      "Epoch 2/100\n",
      "\u001b[1m519/519\u001b[0m \u001b[32m━━━━━━━━━━━━━━━━━━━━\u001b[0m\u001b[37m\u001b[0m \u001b[1m1s\u001b[0m 2ms/step - accuracy: 0.4495 - f1_score: 0.2647 - loss: 1.3414 - val_accuracy: 0.5655 - val_f1_score: 0.2666 - val_loss: 1.0501\n",
      "Epoch 3/100\n",
      "\u001b[1m519/519\u001b[0m \u001b[32m━━━━━━━━━━━━━━━━━━━━\u001b[0m\u001b[37m\u001b[0m \u001b[1m1s\u001b[0m 2ms/step - accuracy: 0.5904 - f1_score: 0.2701 - loss: 1.0430 - val_accuracy: 0.7406 - val_f1_score: 0.2723 - val_loss: 0.8191\n",
      "Epoch 4/100\n",
      "\u001b[1m519/519\u001b[0m \u001b[32m━━━━━━━━━━━━━━━━━━━━\u001b[0m\u001b[37m\u001b[0m \u001b[1m1s\u001b[0m 2ms/step - accuracy: 0.6819 - f1_score: 0.2719 - loss: 0.8563 - val_accuracy: 0.7690 - val_f1_score: 0.2721 - val_loss: 0.6974\n",
      "Epoch 5/100\n",
      "\u001b[1m519/519\u001b[0m \u001b[32m━━━━━━━━━━━━━━━━━━━━\u001b[0m\u001b[37m\u001b[0m \u001b[1m1s\u001b[0m 2ms/step - accuracy: 0.7047 - f1_score: 0.2722 - loss: 0.7712 - val_accuracy: 0.7746 - val_f1_score: 0.2724 - val_loss: 0.6318\n",
      "Epoch 6/100\n",
      "\u001b[1m519/519\u001b[0m \u001b[32m━━━━━━━━━━━━━━━━━━━━\u001b[0m\u001b[37m\u001b[0m \u001b[1m1s\u001b[0m 2ms/step - accuracy: 0.7264 - f1_score: 0.2722 - loss: 0.6996 - val_accuracy: 0.7712 - val_f1_score: 0.2726 - val_loss: 0.6016\n",
      "Epoch 7/100\n",
      "\u001b[1m519/519\u001b[0m \u001b[32m━━━━━━━━━━━━━━━━━━━━\u001b[0m\u001b[37m\u001b[0m \u001b[1m1s\u001b[0m 2ms/step - accuracy: 0.7496 - f1_score: 0.2721 - loss: 0.6491 - val_accuracy: 0.7257 - val_f1_score: 0.2724 - val_loss: 0.6623\n",
      "Epoch 8/100\n",
      "\u001b[1m519/519\u001b[0m \u001b[32m━━━━━━━━━━━━━━━━━━━━\u001b[0m\u001b[37m\u001b[0m \u001b[1m1s\u001b[0m 2ms/step - accuracy: 0.7414 - f1_score: 0.2720 - loss: 0.6402 - val_accuracy: 0.7849 - val_f1_score: 0.2718 - val_loss: 0.5647\n",
      "Epoch 9/100\n",
      "\u001b[1m519/519\u001b[0m \u001b[32m━━━━━━━━━━━━━━━━━━━━\u001b[0m\u001b[37m\u001b[0m \u001b[1m1s\u001b[0m 2ms/step - accuracy: 0.7656 - f1_score: 0.2722 - loss: 0.5980 - val_accuracy: 0.7818 - val_f1_score: 0.2722 - val_loss: 0.5598\n",
      "Epoch 10/100\n",
      "\u001b[1m519/519\u001b[0m \u001b[32m━━━━━━━━━━━━━━━━━━━━\u001b[0m\u001b[37m\u001b[0m \u001b[1m1s\u001b[0m 2ms/step - accuracy: 0.7645 - f1_score: 0.2722 - loss: 0.5993 - val_accuracy: 0.8114 - val_f1_score: 0.2722 - val_loss: 0.5052\n",
      "Epoch 11/100\n",
      "\u001b[1m519/519\u001b[0m \u001b[32m━━━━━━━━━━━━━━━━━━━━\u001b[0m\u001b[37m\u001b[0m \u001b[1m1s\u001b[0m 2ms/step - accuracy: 0.7653 - f1_score: 0.2722 - loss: 0.5912 - val_accuracy: 0.7909 - val_f1_score: 0.2719 - val_loss: 0.5333\n",
      "Epoch 12/100\n",
      "\u001b[1m519/519\u001b[0m \u001b[32m━━━━━━━━━━━━━━━━━━━━\u001b[0m\u001b[37m\u001b[0m \u001b[1m1s\u001b[0m 2ms/step - accuracy: 0.7756 - f1_score: 0.2721 - loss: 0.5716 - val_accuracy: 0.7972 - val_f1_score: 0.2722 - val_loss: 0.5136\n",
      "Epoch 13/100\n",
      "\u001b[1m519/519\u001b[0m \u001b[32m━━━━━━━━━━━━━━━━━━━━\u001b[0m\u001b[37m\u001b[0m \u001b[1m1s\u001b[0m 2ms/step - accuracy: 0.7747 - f1_score: 0.2721 - loss: 0.5683 - val_accuracy: 0.8117 - val_f1_score: 0.2720 - val_loss: 0.4954\n",
      "Epoch 14/100\n",
      "\u001b[1m519/519\u001b[0m \u001b[32m━━━━━━━━━━━━━━━━━━━━\u001b[0m\u001b[37m\u001b[0m \u001b[1m1s\u001b[0m 2ms/step - accuracy: 0.7803 - f1_score: 0.2721 - loss: 0.5562 - val_accuracy: 0.7842 - val_f1_score: 0.2723 - val_loss: 0.5394\n",
      "Epoch 15/100\n",
      "\u001b[1m519/519\u001b[0m \u001b[32m━━━━━━━━━━━━━━━━━━━━\u001b[0m\u001b[37m\u001b[0m \u001b[1m1s\u001b[0m 2ms/step - accuracy: 0.7871 - f1_score: 0.2721 - loss: 0.5413 - val_accuracy: 0.8143 - val_f1_score: 0.2720 - val_loss: 0.4944\n",
      "Epoch 16/100\n",
      "\u001b[1m519/519\u001b[0m \u001b[32m━━━━━━━━━━━━━━━━━━━━\u001b[0m\u001b[37m\u001b[0m \u001b[1m1s\u001b[0m 2ms/step - accuracy: 0.7810 - f1_score: 0.2722 - loss: 0.5471 - val_accuracy: 0.8044 - val_f1_score: 0.2720 - val_loss: 0.5116\n",
      "Epoch 17/100\n",
      "\u001b[1m519/519\u001b[0m \u001b[32m━━━━━━━━━━━━━━━━━━━━\u001b[0m\u001b[37m\u001b[0m \u001b[1m1s\u001b[0m 2ms/step - accuracy: 0.7755 - f1_score: 0.2723 - loss: 0.5595 - val_accuracy: 0.7912 - val_f1_score: 0.2718 - val_loss: 0.5402\n",
      "Epoch 18/100\n",
      "\u001b[1m519/519\u001b[0m \u001b[32m━━━━━━━━━━━━━━━━━━━━\u001b[0m\u001b[37m\u001b[0m \u001b[1m1s\u001b[0m 3ms/step - accuracy: 0.7901 - f1_score: 0.2720 - loss: 0.5413 - val_accuracy: 0.7803 - val_f1_score: 0.2721 - val_loss: 0.5393\n",
      "Epoch 19/100\n",
      "\u001b[1m519/519\u001b[0m \u001b[32m━━━━━━━━━━━━━━━━━━━━\u001b[0m\u001b[37m\u001b[0m \u001b[1m2s\u001b[0m 3ms/step - accuracy: 0.8025 - f1_score: 0.2720 - loss: 0.5217 - val_accuracy: 0.8107 - val_f1_score: 0.2719 - val_loss: 0.5157\n",
      "Epoch 20/100\n",
      "\u001b[1m519/519\u001b[0m \u001b[32m━━━━━━━━━━━━━━━━━━━━\u001b[0m\u001b[37m\u001b[0m \u001b[1m1s\u001b[0m 2ms/step - accuracy: 0.7967 - f1_score: 0.2722 - loss: 0.5218 - val_accuracy: 0.8326 - val_f1_score: 0.2716 - val_loss: 0.4696\n",
      "Epoch 21/100\n",
      "\u001b[1m519/519\u001b[0m \u001b[32m━━━━━━━━━━━━━━━━━━━━\u001b[0m\u001b[37m\u001b[0m \u001b[1m1s\u001b[0m 2ms/step - accuracy: 0.7967 - f1_score: 0.2721 - loss: 0.5221 - val_accuracy: 0.7847 - val_f1_score: 0.2713 - val_loss: 0.5566\n",
      "Epoch 22/100\n",
      "\u001b[1m519/519\u001b[0m \u001b[32m━━━━━━━━━━━━━━━━━━━━\u001b[0m\u001b[37m\u001b[0m \u001b[1m1s\u001b[0m 2ms/step - accuracy: 0.8003 - f1_score: 0.2721 - loss: 0.5181 - val_accuracy: 0.7734 - val_f1_score: 0.2715 - val_loss: 0.5879\n",
      "Epoch 23/100\n",
      "\u001b[1m519/519\u001b[0m \u001b[32m━━━━━━━━━━━━━━━━━━━━\u001b[0m\u001b[37m\u001b[0m \u001b[1m1s\u001b[0m 2ms/step - accuracy: 0.7940 - f1_score: 0.2721 - loss: 0.5235 - val_accuracy: 0.7958 - val_f1_score: 0.2717 - val_loss: 0.5208\n",
      "Epoch 24/100\n",
      "\u001b[1m519/519\u001b[0m \u001b[32m━━━━━━━━━━━━━━━━━━━━\u001b[0m\u001b[37m\u001b[0m \u001b[1m1s\u001b[0m 2ms/step - accuracy: 0.8002 - f1_score: 0.2722 - loss: 0.5136 - val_accuracy: 0.7136 - val_f1_score: 0.2711 - val_loss: 0.6922\n",
      "Epoch 25/100\n",
      "\u001b[1m519/519\u001b[0m \u001b[32m━━━━━━━━━━━━━━━━━━━━\u001b[0m\u001b[37m\u001b[0m \u001b[1m1s\u001b[0m 2ms/step - accuracy: 0.8003 - f1_score: 0.2721 - loss: 0.5124 - val_accuracy: 0.7676 - val_f1_score: 0.2714 - val_loss: 0.5919\n",
      "Epoch 26/100\n",
      "\u001b[1m519/519\u001b[0m \u001b[32m━━━━━━━━━━━━━━━━━━━━\u001b[0m\u001b[37m\u001b[0m \u001b[1m1s\u001b[0m 2ms/step - accuracy: 0.7938 - f1_score: 0.2721 - loss: 0.5238 - val_accuracy: 0.7242 - val_f1_score: 0.2711 - val_loss: 0.6595\n",
      "Epoch 27/100\n",
      "\u001b[1m519/519\u001b[0m \u001b[32m━━━━━━━━━━━━━━━━━━━━\u001b[0m\u001b[37m\u001b[0m \u001b[1m1s\u001b[0m 2ms/step - accuracy: 0.8001 - f1_score: 0.2722 - loss: 0.5092 - val_accuracy: 0.7813 - val_f1_score: 0.2712 - val_loss: 0.5756\n",
      "Epoch 28/100\n",
      "\u001b[1m519/519\u001b[0m \u001b[32m━━━━━━━━━━━━━━━━━━━━\u001b[0m\u001b[37m\u001b[0m \u001b[1m1s\u001b[0m 2ms/step - accuracy: 0.8039 - f1_score: 0.2721 - loss: 0.4995 - val_accuracy: 0.7435 - val_f1_score: 0.2708 - val_loss: 0.6685\n",
      "Epoch 29/100\n",
      "\u001b[1m519/519\u001b[0m \u001b[32m━━━━━━━━━━━━━━━━━━━━\u001b[0m\u001b[37m\u001b[0m \u001b[1m1s\u001b[0m 2ms/step - accuracy: 0.8067 - f1_score: 0.2720 - loss: 0.4949 - val_accuracy: 0.7909 - val_f1_score: 0.2715 - val_loss: 0.5625\n",
      "Epoch 30/100\n",
      "\u001b[1m519/519\u001b[0m \u001b[32m━━━━━━━━━━━━━━━━━━━━\u001b[0m\u001b[37m\u001b[0m \u001b[1m1s\u001b[0m 2ms/step - accuracy: 0.8111 - f1_score: 0.2722 - loss: 0.4886 - val_accuracy: 0.7697 - val_f1_score: 0.2713 - val_loss: 0.5849\n",
      "Epoch 31/100\n",
      "\u001b[1m519/519\u001b[0m \u001b[32m━━━━━━━━━━━━━━━━━━━━\u001b[0m\u001b[37m\u001b[0m \u001b[1m1s\u001b[0m 2ms/step - accuracy: 0.8013 - f1_score: 0.2720 - loss: 0.5065 - val_accuracy: 0.8167 - val_f1_score: 0.2720 - val_loss: 0.4927\n",
      "Epoch 32/100\n",
      "\u001b[1m519/519\u001b[0m \u001b[32m━━━━━━━━━━━━━━━━━━━━\u001b[0m\u001b[37m\u001b[0m \u001b[1m1s\u001b[0m 2ms/step - accuracy: 0.8043 - f1_score: 0.2721 - loss: 0.5030 - val_accuracy: 0.6970 - val_f1_score: 0.2711 - val_loss: 0.7573\n",
      "Epoch 33/100\n",
      "\u001b[1m519/519\u001b[0m \u001b[32m━━━━━━━━━━━━━━━━━━━━\u001b[0m\u001b[37m\u001b[0m \u001b[1m1s\u001b[0m 2ms/step - accuracy: 0.8120 - f1_score: 0.2721 - loss: 0.4887 - val_accuracy: 0.6419 - val_f1_score: 0.2709 - val_loss: 0.9113\n",
      "Epoch 34/100\n",
      "\u001b[1m519/519\u001b[0m \u001b[32m━━━━━━━━━━━━━━━━━━━━\u001b[0m\u001b[37m\u001b[0m \u001b[1m1s\u001b[0m 2ms/step - accuracy: 0.8092 - f1_score: 0.2721 - loss: 0.4882 - val_accuracy: 0.7471 - val_f1_score: 0.2712 - val_loss: 0.6491\n",
      "Epoch 35/100\n",
      "\u001b[1m519/519\u001b[0m \u001b[32m━━━━━━━━━━━━━━━━━━━━\u001b[0m\u001b[37m\u001b[0m \u001b[1m1s\u001b[0m 2ms/step - accuracy: 0.8118 - f1_score: 0.2721 - loss: 0.4935 - val_accuracy: 0.7488 - val_f1_score: 0.2714 - val_loss: 0.6419\n",
      "Epoch 36/100\n",
      "\u001b[1m519/519\u001b[0m \u001b[32m━━━━━━━━━━━━━━━━━━━━\u001b[0m\u001b[37m\u001b[0m \u001b[1m1s\u001b[0m 2ms/step - accuracy: 0.8155 - f1_score: 0.2720 - loss: 0.4907 - val_accuracy: 0.6500 - val_f1_score: 0.2714 - val_loss: 0.9209\n",
      "Epoch 37/100\n",
      "\u001b[1m519/519\u001b[0m \u001b[32m━━━━━━━━━━━━━━━━━━━━\u001b[0m\u001b[37m\u001b[0m \u001b[1m1s\u001b[0m 2ms/step - accuracy: 0.8116 - f1_score: 0.2721 - loss: 0.4932 - val_accuracy: 0.6862 - val_f1_score: 0.2714 - val_loss: 0.8123\n",
      "Epoch 38/100\n",
      "\u001b[1m519/519\u001b[0m \u001b[32m━━━━━━━━━━━━━━━━━━━━\u001b[0m\u001b[37m\u001b[0m \u001b[1m1s\u001b[0m 2ms/step - accuracy: 0.8173 - f1_score: 0.2722 - loss: 0.4755 - val_accuracy: 0.6717 - val_f1_score: 0.2712 - val_loss: 0.8105\n",
      "Epoch 39/100\n",
      "\u001b[1m519/519\u001b[0m \u001b[32m━━━━━━━━━━━━━━━━━━━━\u001b[0m\u001b[37m\u001b[0m \u001b[1m1s\u001b[0m 2ms/step - accuracy: 0.8166 - f1_score: 0.2720 - loss: 0.4769 - val_accuracy: 0.7071 - val_f1_score: 0.2716 - val_loss: 0.7469\n",
      "Epoch 40/100\n",
      "\u001b[1m519/519\u001b[0m \u001b[32m━━━━━━━━━━━━━━━━━━━━\u001b[0m\u001b[37m\u001b[0m \u001b[1m1s\u001b[0m 2ms/step - accuracy: 0.8119 - f1_score: 0.2722 - loss: 0.4861 - val_accuracy: 0.7868 - val_f1_score: 0.2718 - val_loss: 0.5324\n",
      "Epoch 41/100\n",
      "\u001b[1m519/519\u001b[0m \u001b[32m━━━━━━━━━━━━━━━━━━━━\u001b[0m\u001b[37m\u001b[0m \u001b[1m1s\u001b[0m 2ms/step - accuracy: 0.8085 - f1_score: 0.2722 - loss: 0.4928 - val_accuracy: 0.6879 - val_f1_score: 0.2711 - val_loss: 0.8297\n",
      "Epoch 42/100\n",
      "\u001b[1m519/519\u001b[0m \u001b[32m━━━━━━━━━━━━━━━━━━━━\u001b[0m\u001b[37m\u001b[0m \u001b[1m1s\u001b[0m 2ms/step - accuracy: 0.8158 - f1_score: 0.2721 - loss: 0.4764 - val_accuracy: 0.7177 - val_f1_score: 0.2710 - val_loss: 0.7533\n",
      "Epoch 43/100\n",
      "\u001b[1m519/519\u001b[0m \u001b[32m━━━━━━━━━━━━━━━━━━━━\u001b[0m\u001b[37m\u001b[0m \u001b[1m1s\u001b[0m 2ms/step - accuracy: 0.8168 - f1_score: 0.2720 - loss: 0.4736 - val_accuracy: 0.7288 - val_f1_score: 0.2714 - val_loss: 0.6836\n",
      "Epoch 44/100\n",
      "\u001b[1m519/519\u001b[0m \u001b[32m━━━━━━━━━━━━━━━━━━━━\u001b[0m\u001b[37m\u001b[0m \u001b[1m1s\u001b[0m 2ms/step - accuracy: 0.8208 - f1_score: 0.2720 - loss: 0.4707 - val_accuracy: 0.7006 - val_f1_score: 0.2714 - val_loss: 0.7450\n",
      "Epoch 45/100\n",
      "\u001b[1m519/519\u001b[0m \u001b[32m━━━━━━━━━━━━━━━━━━━━\u001b[0m\u001b[37m\u001b[0m \u001b[1m1s\u001b[0m 2ms/step - accuracy: 0.8137 - f1_score: 0.2720 - loss: 0.4782 - val_accuracy: 0.7551 - val_f1_score: 0.2715 - val_loss: 0.6339\n",
      "Epoch 46/100\n",
      "\u001b[1m519/519\u001b[0m \u001b[32m━━━━━━━━━━━━━━━━━━━━\u001b[0m\u001b[37m\u001b[0m \u001b[1m1s\u001b[0m 2ms/step - accuracy: 0.8167 - f1_score: 0.2722 - loss: 0.4804 - val_accuracy: 0.6510 - val_f1_score: 0.2718 - val_loss: 0.9173\n",
      "Epoch 47/100\n",
      "\u001b[1m519/519\u001b[0m \u001b[32m━━━━━━━━━━━━━━━━━━━━\u001b[0m\u001b[37m\u001b[0m \u001b[1m1s\u001b[0m 2ms/step - accuracy: 0.8218 - f1_score: 0.2720 - loss: 0.4668 - val_accuracy: 0.6272 - val_f1_score: 0.2715 - val_loss: 0.9092\n",
      "Epoch 48/100\n",
      "\u001b[1m519/519\u001b[0m \u001b[32m━━━━━━━━━━━━━━━━━━━━\u001b[0m\u001b[37m\u001b[0m \u001b[1m1s\u001b[0m 2ms/step - accuracy: 0.8111 - f1_score: 0.2722 - loss: 0.4901 - val_accuracy: 0.7517 - val_f1_score: 0.2704 - val_loss: 0.6560\n",
      "Epoch 49/100\n",
      "\u001b[1m519/519\u001b[0m \u001b[32m━━━━━━━━━━━━━━━━━━━━\u001b[0m\u001b[37m\u001b[0m \u001b[1m1s\u001b[0m 2ms/step - accuracy: 0.8272 - f1_score: 0.2721 - loss: 0.4620 - val_accuracy: 0.6968 - val_f1_score: 0.2711 - val_loss: 0.7814\n",
      "Epoch 50/100\n",
      "\u001b[1m519/519\u001b[0m \u001b[32m━━━━━━━━━━━━━━━━━━━━\u001b[0m\u001b[37m\u001b[0m \u001b[1m1s\u001b[0m 2ms/step - accuracy: 0.8135 - f1_score: 0.2722 - loss: 0.4755 - val_accuracy: 0.6380 - val_f1_score: 0.2712 - val_loss: 0.9389\n",
      "Epoch 51/100\n",
      "\u001b[1m519/519\u001b[0m \u001b[32m━━━━━━━━━━━━━━━━━━━━\u001b[0m\u001b[37m\u001b[0m \u001b[1m1s\u001b[0m 2ms/step - accuracy: 0.8183 - f1_score: 0.2721 - loss: 0.4749 - val_accuracy: 0.6561 - val_f1_score: 0.2725 - val_loss: 0.8713\n",
      "Epoch 52/100\n",
      "\u001b[1m519/519\u001b[0m \u001b[32m━━━━━━━━━━━━━━━━━━━━\u001b[0m\u001b[37m\u001b[0m \u001b[1m1s\u001b[0m 2ms/step - accuracy: 0.8210 - f1_score: 0.2723 - loss: 0.4704 - val_accuracy: 0.7707 - val_f1_score: 0.2718 - val_loss: 0.5965\n",
      "Epoch 53/100\n",
      "\u001b[1m519/519\u001b[0m \u001b[32m━━━━━━━━━━━━━━━━━━━━\u001b[0m\u001b[37m\u001b[0m \u001b[1m1s\u001b[0m 2ms/step - accuracy: 0.8194 - f1_score: 0.2721 - loss: 0.4703 - val_accuracy: 0.5771 - val_f1_score: 0.2713 - val_loss: 1.0818\n",
      "Epoch 54/100\n",
      "\u001b[1m519/519\u001b[0m \u001b[32m━━━━━━━━━━━━━━━━━━━━\u001b[0m\u001b[37m\u001b[0m \u001b[1m1s\u001b[0m 2ms/step - accuracy: 0.8285 - f1_score: 0.2721 - loss: 0.4536 - val_accuracy: 0.7250 - val_f1_score: 0.2712 - val_loss: 0.7012\n",
      "Epoch 55/100\n",
      "\u001b[1m519/519\u001b[0m \u001b[32m━━━━━━━━━━━━━━━━━━━━\u001b[0m\u001b[37m\u001b[0m \u001b[1m1s\u001b[0m 2ms/step - accuracy: 0.8214 - f1_score: 0.2719 - loss: 0.4643 - val_accuracy: 0.7187 - val_f1_score: 0.2708 - val_loss: 0.7639\n",
      "Epoch 56/100\n",
      "\u001b[1m519/519\u001b[0m \u001b[32m━━━━━━━━━━━━━━━━━━━━\u001b[0m\u001b[37m\u001b[0m \u001b[1m1s\u001b[0m 2ms/step - accuracy: 0.8296 - f1_score: 0.2720 - loss: 0.4607 - val_accuracy: 0.6924 - val_f1_score: 0.2710 - val_loss: 0.7943\n",
      "Epoch 57/100\n",
      "\u001b[1m519/519\u001b[0m \u001b[32m━━━━━━━━━━━━━━━━━━━━\u001b[0m\u001b[37m\u001b[0m \u001b[1m1s\u001b[0m 2ms/step - accuracy: 0.8192 - f1_score: 0.2720 - loss: 0.4728 - val_accuracy: 0.6869 - val_f1_score: 0.2720 - val_loss: 0.8256\n",
      "Epoch 58/100\n",
      "\u001b[1m519/519\u001b[0m \u001b[32m━━━━━━━━━━━━━━━━━━━━\u001b[0m\u001b[37m\u001b[0m \u001b[1m1s\u001b[0m 2ms/step - accuracy: 0.8194 - f1_score: 0.2720 - loss: 0.4705 - val_accuracy: 0.7001 - val_f1_score: 0.2710 - val_loss: 0.7928\n",
      "Epoch 59/100\n",
      "\u001b[1m519/519\u001b[0m \u001b[32m━━━━━━━━━━━━━━━━━━━━\u001b[0m\u001b[37m\u001b[0m \u001b[1m1s\u001b[0m 2ms/step - accuracy: 0.8267 - f1_score: 0.2720 - loss: 0.4570 - val_accuracy: 0.6811 - val_f1_score: 0.2713 - val_loss: 0.8402\n",
      "Epoch 60/100\n",
      "\u001b[1m519/519\u001b[0m \u001b[32m━━━━━━━━━━━━━━━━━━━━\u001b[0m\u001b[37m\u001b[0m \u001b[1m1s\u001b[0m 2ms/step - accuracy: 0.8258 - f1_score: 0.2721 - loss: 0.4548 - val_accuracy: 0.6209 - val_f1_score: 0.2715 - val_loss: 0.9770\n",
      "Epoch 61/100\n",
      "\u001b[1m519/519\u001b[0m \u001b[32m━━━━━━━━━━━━━━━━━━━━\u001b[0m\u001b[37m\u001b[0m \u001b[1m1s\u001b[0m 2ms/step - accuracy: 0.8246 - f1_score: 0.2721 - loss: 0.4572 - val_accuracy: 0.6354 - val_f1_score: 0.2717 - val_loss: 0.9203\n",
      "Epoch 62/100\n",
      "\u001b[1m519/519\u001b[0m \u001b[32m━━━━━━━━━━━━━━━━━━━━\u001b[0m\u001b[37m\u001b[0m \u001b[1m1s\u001b[0m 2ms/step - accuracy: 0.8236 - f1_score: 0.2722 - loss: 0.4602 - val_accuracy: 0.6457 - val_f1_score: 0.2718 - val_loss: 0.9196\n",
      "Epoch 63/100\n",
      "\u001b[1m519/519\u001b[0m \u001b[32m━━━━━━━━━━━━━━━━━━━━\u001b[0m\u001b[37m\u001b[0m \u001b[1m1s\u001b[0m 2ms/step - accuracy: 0.8208 - f1_score: 0.2722 - loss: 0.4763 - val_accuracy: 0.6496 - val_f1_score: 0.2712 - val_loss: 0.9015\n",
      "Epoch 64/100\n",
      "\u001b[1m519/519\u001b[0m \u001b[32m━━━━━━━━━━━━━━━━━━━━\u001b[0m\u001b[37m\u001b[0m \u001b[1m1s\u001b[0m 2ms/step - accuracy: 0.8249 - f1_score: 0.2722 - loss: 0.4562 - val_accuracy: 0.7127 - val_f1_score: 0.2714 - val_loss: 0.7185\n",
      "Epoch 65/100\n",
      "\u001b[1m519/519\u001b[0m \u001b[32m━━━━━━━━━━━━━━━━━━━━\u001b[0m\u001b[37m\u001b[0m \u001b[1m1s\u001b[0m 2ms/step - accuracy: 0.8211 - f1_score: 0.2722 - loss: 0.4675 - val_accuracy: 0.6291 - val_f1_score: 0.2710 - val_loss: 0.9508\n",
      "Epoch 66/100\n",
      "\u001b[1m519/519\u001b[0m \u001b[32m━━━━━━━━━━━━━━━━━━━━\u001b[0m\u001b[37m\u001b[0m \u001b[1m1s\u001b[0m 2ms/step - accuracy: 0.8231 - f1_score: 0.2721 - loss: 0.4636 - val_accuracy: 0.5448 - val_f1_score: 0.2711 - val_loss: 1.2252\n",
      "Epoch 67/100\n",
      "\u001b[1m519/519\u001b[0m \u001b[32m━━━━━━━━━━━━━━━━━━━━\u001b[0m\u001b[37m\u001b[0m \u001b[1m1s\u001b[0m 2ms/step - accuracy: 0.8233 - f1_score: 0.2722 - loss: 0.4582 - val_accuracy: 0.6623 - val_f1_score: 0.2716 - val_loss: 0.8354\n",
      "Epoch 68/100\n",
      "\u001b[1m519/519\u001b[0m \u001b[32m━━━━━━━━━━━━━━━━━━━━\u001b[0m\u001b[37m\u001b[0m \u001b[1m1s\u001b[0m 2ms/step - accuracy: 0.8181 - f1_score: 0.2721 - loss: 0.4710 - val_accuracy: 0.6811 - val_f1_score: 0.2716 - val_loss: 0.7888\n",
      "Epoch 69/100\n",
      "\u001b[1m519/519\u001b[0m \u001b[32m━━━━━━━━━━━━━━━━━━━━\u001b[0m\u001b[37m\u001b[0m \u001b[1m1s\u001b[0m 2ms/step - accuracy: 0.8251 - f1_score: 0.2722 - loss: 0.4622 - val_accuracy: 0.5561 - val_f1_score: 0.2712 - val_loss: 1.1367\n",
      "Epoch 70/100\n",
      "\u001b[1m519/519\u001b[0m \u001b[32m━━━━━━━━━━━━━━━━━━━━\u001b[0m\u001b[37m\u001b[0m \u001b[1m1s\u001b[0m 2ms/step - accuracy: 0.8231 - f1_score: 0.2720 - loss: 0.4592 - val_accuracy: 0.6561 - val_f1_score: 0.2716 - val_loss: 0.9373\n",
      "Epoch 71/100\n",
      "\u001b[1m519/519\u001b[0m \u001b[32m━━━━━━━━━━━━━━━━━━━━\u001b[0m\u001b[37m\u001b[0m \u001b[1m1s\u001b[0m 2ms/step - accuracy: 0.8288 - f1_score: 0.2721 - loss: 0.4531 - val_accuracy: 0.5824 - val_f1_score: 0.2715 - val_loss: 1.1154\n",
      "Epoch 72/100\n",
      "\u001b[1m519/519\u001b[0m \u001b[32m━━━━━━━━━━━━━━━━━━━━\u001b[0m\u001b[37m\u001b[0m \u001b[1m1s\u001b[0m 2ms/step - accuracy: 0.8271 - f1_score: 0.2720 - loss: 0.4515 - val_accuracy: 0.6098 - val_f1_score: 0.2715 - val_loss: 1.0043\n",
      "Epoch 73/100\n",
      "\u001b[1m519/519\u001b[0m \u001b[32m━━━━━━━━━━━━━━━━━━━━\u001b[0m\u001b[37m\u001b[0m \u001b[1m1s\u001b[0m 2ms/step - accuracy: 0.8255 - f1_score: 0.2721 - loss: 0.4597 - val_accuracy: 0.6688 - val_f1_score: 0.2716 - val_loss: 0.8474\n",
      "Epoch 74/100\n",
      "\u001b[1m519/519\u001b[0m \u001b[32m━━━━━━━━━━━━━━━━━━━━\u001b[0m\u001b[37m\u001b[0m \u001b[1m1s\u001b[0m 2ms/step - accuracy: 0.8234 - f1_score: 0.2721 - loss: 0.4617 - val_accuracy: 0.5617 - val_f1_score: 0.2715 - val_loss: 1.1757\n",
      "Epoch 75/100\n",
      "\u001b[1m519/519\u001b[0m \u001b[32m━━━━━━━━━━━━━━━━━━━━\u001b[0m\u001b[37m\u001b[0m \u001b[1m1s\u001b[0m 2ms/step - accuracy: 0.8263 - f1_score: 0.2720 - loss: 0.4599 - val_accuracy: 0.6320 - val_f1_score: 0.2717 - val_loss: 0.9335\n",
      "Epoch 76/100\n",
      "\u001b[1m519/519\u001b[0m \u001b[32m━━━━━━━━━━━━━━━━━━━━\u001b[0m\u001b[37m\u001b[0m \u001b[1m1s\u001b[0m 2ms/step - accuracy: 0.8305 - f1_score: 0.2721 - loss: 0.4549 - val_accuracy: 0.5983 - val_f1_score: 0.2711 - val_loss: 1.0062\n",
      "Epoch 77/100\n",
      "\u001b[1m519/519\u001b[0m \u001b[32m━━━━━━━━━━━━━━━━━━━━\u001b[0m\u001b[37m\u001b[0m \u001b[1m1s\u001b[0m 2ms/step - accuracy: 0.8269 - f1_score: 0.2721 - loss: 0.4510 - val_accuracy: 0.5672 - val_f1_score: 0.2714 - val_loss: 1.1357\n",
      "Epoch 78/100\n",
      "\u001b[1m519/519\u001b[0m \u001b[32m━━━━━━━━━━━━━━━━━━━━\u001b[0m\u001b[37m\u001b[0m \u001b[1m1s\u001b[0m 2ms/step - accuracy: 0.8266 - f1_score: 0.2720 - loss: 0.4550 - val_accuracy: 0.5816 - val_f1_score: 0.2700 - val_loss: 1.1221\n",
      "Epoch 79/100\n",
      "\u001b[1m519/519\u001b[0m \u001b[32m━━━━━━━━━━━━━━━━━━━━\u001b[0m\u001b[37m\u001b[0m \u001b[1m1s\u001b[0m 2ms/step - accuracy: 0.8182 - f1_score: 0.2722 - loss: 0.4667 - val_accuracy: 0.5886 - val_f1_score: 0.2719 - val_loss: 1.0808\n",
      "Epoch 80/100\n",
      "\u001b[1m519/519\u001b[0m \u001b[32m━━━━━━━━━━━━━━━━━━━━\u001b[0m\u001b[37m\u001b[0m \u001b[1m1s\u001b[0m 2ms/step - accuracy: 0.8325 - f1_score: 0.2721 - loss: 0.4449 - val_accuracy: 0.5173 - val_f1_score: 0.2701 - val_loss: 1.2184\n",
      "Epoch 81/100\n",
      "\u001b[1m519/519\u001b[0m \u001b[32m━━━━━━━━━━━━━━━━━━━━\u001b[0m\u001b[37m\u001b[0m \u001b[1m1s\u001b[0m 2ms/step - accuracy: 0.8332 - f1_score: 0.2721 - loss: 0.4478 - val_accuracy: 0.5877 - val_f1_score: 0.2709 - val_loss: 1.0295\n",
      "Epoch 82/100\n",
      "\u001b[1m519/519\u001b[0m \u001b[32m━━━━━━━━━━━━━━━━━━━━\u001b[0m\u001b[37m\u001b[0m \u001b[1m1s\u001b[0m 2ms/step - accuracy: 0.8289 - f1_score: 0.2722 - loss: 0.4531 - val_accuracy: 0.5747 - val_f1_score: 0.2717 - val_loss: 1.0531\n",
      "Epoch 83/100\n",
      "\u001b[1m519/519\u001b[0m \u001b[32m━━━━━━━━━━━━━━━━━━━━\u001b[0m\u001b[37m\u001b[0m \u001b[1m1s\u001b[0m 2ms/step - accuracy: 0.8298 - f1_score: 0.2721 - loss: 0.4454 - val_accuracy: 0.5942 - val_f1_score: 0.2707 - val_loss: 1.0553\n",
      "Epoch 84/100\n",
      "\u001b[1m519/519\u001b[0m \u001b[32m━━━━━━━━━━━━━━━━━━━━\u001b[0m\u001b[37m\u001b[0m \u001b[1m1s\u001b[0m 2ms/step - accuracy: 0.8320 - f1_score: 0.2719 - loss: 0.4502 - val_accuracy: 0.5361 - val_f1_score: 0.2702 - val_loss: 1.2459\n",
      "Epoch 85/100\n",
      "\u001b[1m519/519\u001b[0m \u001b[32m━━━━━━━━━━━━━━━━━━━━\u001b[0m\u001b[37m\u001b[0m \u001b[1m1s\u001b[0m 2ms/step - accuracy: 0.8310 - f1_score: 0.2722 - loss: 0.4478 - val_accuracy: 0.6163 - val_f1_score: 0.2716 - val_loss: 0.9476\n",
      "Epoch 86/100\n",
      "\u001b[1m519/519\u001b[0m \u001b[32m━━━━━━━━━━━━━━━━━━━━\u001b[0m\u001b[37m\u001b[0m \u001b[1m1s\u001b[0m 2ms/step - accuracy: 0.8280 - f1_score: 0.2722 - loss: 0.4531 - val_accuracy: 0.5602 - val_f1_score: 0.2710 - val_loss: 1.1708\n",
      "Epoch 87/100\n",
      "\u001b[1m519/519\u001b[0m \u001b[32m━━━━━━━━━━━━━━━━━━━━\u001b[0m\u001b[37m\u001b[0m \u001b[1m1s\u001b[0m 2ms/step - accuracy: 0.8231 - f1_score: 0.2721 - loss: 0.4577 - val_accuracy: 0.6708 - val_f1_score: 0.2714 - val_loss: 0.8280\n",
      "Epoch 88/100\n",
      "\u001b[1m519/519\u001b[0m \u001b[32m━━━━━━━━━━━━━━━━━━━━\u001b[0m\u001b[37m\u001b[0m \u001b[1m1s\u001b[0m 2ms/step - accuracy: 0.8298 - f1_score: 0.2720 - loss: 0.4514 - val_accuracy: 0.7054 - val_f1_score: 0.2715 - val_loss: 0.7372\n",
      "Epoch 89/100\n",
      "\u001b[1m519/519\u001b[0m \u001b[32m━━━━━━━━━━━━━━━━━━━━\u001b[0m\u001b[37m\u001b[0m \u001b[1m1s\u001b[0m 2ms/step - accuracy: 0.8313 - f1_score: 0.2720 - loss: 0.4370 - val_accuracy: 0.6332 - val_f1_score: 0.2712 - val_loss: 0.9409\n",
      "Epoch 90/100\n",
      "\u001b[1m519/519\u001b[0m \u001b[32m━━━━━━━━━━━━━━━━━━━━\u001b[0m\u001b[37m\u001b[0m \u001b[1m1s\u001b[0m 2ms/step - accuracy: 0.8280 - f1_score: 0.2720 - loss: 0.4435 - val_accuracy: 0.6108 - val_f1_score: 0.2710 - val_loss: 1.0157\n",
      "Epoch 91/100\n",
      "\u001b[1m519/519\u001b[0m \u001b[32m━━━━━━━━━━━━━━━━━━━━\u001b[0m\u001b[37m\u001b[0m \u001b[1m1s\u001b[0m 2ms/step - accuracy: 0.8304 - f1_score: 0.2721 - loss: 0.4390 - val_accuracy: 0.5874 - val_f1_score: 0.2707 - val_loss: 1.1032\n",
      "Epoch 92/100\n",
      "\u001b[1m519/519\u001b[0m \u001b[32m━━━━━━━━━━━━━━━━━━━━\u001b[0m\u001b[37m\u001b[0m \u001b[1m1s\u001b[0m 2ms/step - accuracy: 0.8245 - f1_score: 0.2721 - loss: 0.4576 - val_accuracy: 0.4350 - val_f1_score: 0.2694 - val_loss: 1.5396\n",
      "Epoch 93/100\n",
      "\u001b[1m519/519\u001b[0m \u001b[32m━━━━━━━━━━━━━━━━━━━━\u001b[0m\u001b[37m\u001b[0m \u001b[1m1s\u001b[0m 2ms/step - accuracy: 0.8256 - f1_score: 0.2721 - loss: 0.4521 - val_accuracy: 0.5417 - val_f1_score: 0.2703 - val_loss: 1.2390\n",
      "Epoch 94/100\n",
      "\u001b[1m519/519\u001b[0m \u001b[32m━━━━━━━━━━━━━━━━━━━━\u001b[0m\u001b[37m\u001b[0m \u001b[1m1s\u001b[0m 2ms/step - accuracy: 0.8364 - f1_score: 0.2720 - loss: 0.4403 - val_accuracy: 0.5735 - val_f1_score: 0.2716 - val_loss: 1.1130\n",
      "Epoch 95/100\n",
      "\u001b[1m519/519\u001b[0m \u001b[32m━━━━━━━━━━━━━━━━━━━━\u001b[0m\u001b[37m\u001b[0m \u001b[1m1s\u001b[0m 2ms/step - accuracy: 0.8246 - f1_score: 0.2720 - loss: 0.4634 - val_accuracy: 0.5730 - val_f1_score: 0.2710 - val_loss: 1.1767\n",
      "Epoch 96/100\n",
      "\u001b[1m519/519\u001b[0m \u001b[32m━━━━━━━━━━━━━━━━━━━━\u001b[0m\u001b[37m\u001b[0m \u001b[1m1s\u001b[0m 2ms/step - accuracy: 0.8343 - f1_score: 0.2721 - loss: 0.4358 - val_accuracy: 0.6655 - val_f1_score: 0.2715 - val_loss: 0.8727\n",
      "Epoch 97/100\n",
      "\u001b[1m519/519\u001b[0m \u001b[32m━━━━━━━━━━━━━━━━━━━━\u001b[0m\u001b[37m\u001b[0m \u001b[1m1s\u001b[0m 2ms/step - accuracy: 0.8297 - f1_score: 0.2722 - loss: 0.4540 - val_accuracy: 0.6077 - val_f1_score: 0.2707 - val_loss: 1.0524\n",
      "Epoch 98/100\n",
      "\u001b[1m519/519\u001b[0m \u001b[32m━━━━━━━━━━━━━━━━━━━━\u001b[0m\u001b[37m\u001b[0m \u001b[1m1s\u001b[0m 2ms/step - accuracy: 0.8281 - f1_score: 0.2721 - loss: 0.4495 - val_accuracy: 0.4297 - val_f1_score: 0.2688 - val_loss: 1.4845\n",
      "Epoch 99/100\n",
      "\u001b[1m519/519\u001b[0m \u001b[32m━━━━━━━━━━━━━━━━━━━━\u001b[0m\u001b[37m\u001b[0m \u001b[1m1s\u001b[0m 2ms/step - accuracy: 0.8343 - f1_score: 0.2720 - loss: 0.4326 - val_accuracy: 0.4880 - val_f1_score: 0.2709 - val_loss: 1.3401\n",
      "Epoch 100/100\n",
      "\u001b[1m519/519\u001b[0m \u001b[32m━━━━━━━━━━━━━━━━━━━━\u001b[0m\u001b[37m\u001b[0m \u001b[1m1s\u001b[0m 2ms/step - accuracy: 0.8301 - f1_score: 0.2722 - loss: 0.4470 - val_accuracy: 0.5576 - val_f1_score: 0.2705 - val_loss: 1.1869\n"
     ]
    },
    {
     "data": {
      "text/plain": [
       "<keras.src.callbacks.history.History at 0x1558910f0>"
      ]
     },
     "execution_count": 20,
     "metadata": {},
     "output_type": "execute_result"
    }
   ],
   "source": [
    "# Train the model with 100 epochs\n",
    "model.fit(X_train, y_train, epochs=100, batch_size=32, validation_data=(X_test, y_test))"
   ]
  },
  {
   "cell_type": "code",
   "execution_count": 21,
   "metadata": {},
   "outputs": [
    {
     "name": "stdout",
     "output_type": "stream",
     "text": [
      "Cross-validation accuracy scores: [0.83804937 0.84763625 0.83709726 0.84522734 0.85305631]\n",
      "Accuracy: 0.8415221579961464\n",
      "F1 Score: 0.8404729500844377\n"
     ]
    }
   ],
   "source": [
    "\"\"\"\n",
    "This script trains a K-Nearest Neighbors (KNN) algorithm with cross-validation and evaluates its performance.\n",
    "\n",
    "Steps:\n",
    "1. Import the necessary libraries.\n",
    "2. Initialize the KNN classifier with 5 neighbors.\n",
    "3. Perform cross-validation on the training data and print the accuracy scores.\n",
    "4. Train the KNN model on the entire training dataset.\n",
    "5. Predict the labels for the test dataset.\n",
    "6. Print the accuracy and F1 score of the model on the test dataset.\n",
    "\n",
    "Variables:\n",
    "- knn: KNeighborsClassifier object initialized with 5 neighbors.\n",
    "- scores: Cross-validation accuracy scores.\n",
    "- y_pred: Predicted labels for the test dataset.\n",
    "\n",
    "Functions:\n",
    "- cross_val_score: Performs cross-validation and returns accuracy scores.\n",
    "- fit: Trains the KNN model on the training dataset.\n",
    "- predict: Predicts the labels for the test dataset.\n",
    "- accuracy_score: Computes the accuracy of the model.\n",
    "- f1_score: Computes the F1 score of the model.\n",
    "\"\"\"\n",
    "\n",
    "knn = KNeighborsClassifier(n_neighbors=5)\n",
    "scores = cross_val_score(knn, X_train, y_train, cv=5, scoring='accuracy')\n",
    "\n",
    "print(\"Cross-validation accuracy scores:\", scores)\n",
    "\n",
    "# Test the model, print accuracy and F1 Score\n",
    "\n",
    "knn.fit(X_train, y_train)\n",
    "y_pred = knn.predict(X_test)\n",
    "\n",
    "print('Accuracy:', accuracy_score(y_test, y_pred))\n",
    "print('F1 Score:', f1_score(y_test, y_pred, average='weighted'))"
   ]
  },
  {
   "cell_type": "code",
   "execution_count": 22,
   "metadata": {},
   "outputs": [
    {
     "name": "stdout",
     "output_type": "stream",
     "text": [
      "Cross-validation accuracy scores: [0.73419627 0.72628726 0.72568503 0.72749172 0.74314965]\n",
      "Accuracy: 0.7418111753371869\n",
      "F1 Score: 0.7388764612163182\n"
     ]
    }
   ],
   "source": [
    "\"\"\"\n",
    "This script trains a Support Vector Machine (SVM) model using a polynomial kernel to predict obesity risk.\n",
    "It performs the following steps:\n",
    "1. Imports the necessary libraries and modules.\n",
    "2. Initializes the SVM model with a polynomial kernel.\n",
    "3. Performs cross-validation on the training data and prints the accuracy scores.\n",
    "4. Fits the SVM model to the training data.\n",
    "5. Predicts the labels for the test data.\n",
    "6. Prints the accuracy and F1 score of the model on the test data.\n",
    "\n",
    "Variables:\n",
    "- svc: The Support Vector Classifier (SVC) model with a polynomial kernel.\n",
    "- scores: The cross-validation accuracy scores.\n",
    "- y_pred: The predicted labels for the test data.\n",
    "\n",
    "Functions:\n",
    "- cross_val_score: Performs cross-validation and returns the accuracy scores.\n",
    "- fit: Fits the SVM model to the training data.\n",
    "- predict: Predicts the labels for the test data.\n",
    "- accuracy_score: Computes the accuracy of the model.\n",
    "- f1_score: Computes the F1 score of the model.\n",
    "\"\"\"\n",
    "\n",
    "svc = SVC(kernel='poly')\n",
    "scores = cross_val_score(svc, X_train, y_train, cv=5, scoring='accuracy')\n",
    "\n",
    "print(\"Cross-validation accuracy scores:\", scores)\n",
    "\n",
    "# Test the model, print accuracy and F1 Score\n",
    "\n",
    "svc.fit(X_train, y_train)\n",
    "y_pred = svc.predict(X_test)\n",
    "\n",
    "print('Accuracy:', accuracy_score(y_test, y_pred))\n",
    "print('F1 Score:', f1_score(y_test, y_pred, average='weighted'))"
   ]
  },
  {
   "cell_type": "code",
   "execution_count": 23,
   "metadata": {},
   "outputs": [
    {
     "name": "stdout",
     "output_type": "stream",
     "text": [
      "[0.89554485 0.90936465 0.8976212  0.90274014 0.9168925 ]\n"
     ]
    }
   ],
   "source": [
    "# Train XGBoost Model\n",
    "from xgboost import XGBClassifier\n",
    "\n",
    "xgb = XGBClassifier()\n",
    "scores = cross_val_score(xgb, X_train, y_train, cv=5, scoring='accuracy')\n",
    "\n",
    "print(scores)"
   ]
  },
  {
   "cell_type": "code",
   "execution_count": 24,
   "metadata": {},
   "outputs": [
    {
     "name": "stdout",
     "output_type": "stream",
     "text": [
      "Accuracy: 0.9019749518304432\n",
      "F1 Score: 0.9021547563450466\n"
     ]
    }
   ],
   "source": [
    "# Test the model and print accuracy and F1 Score, also print ROC AUC score\n",
    "from sklearn.metrics import roc_auc_score\n",
    "xgb.fit(X_train, y_train)\n",
    "y_pred = xgb.predict(X_test)\n",
    "\n",
    "print('Accuracy:', accuracy_score(y_test, y_pred))\n",
    "print('F1 Score:', f1_score(y_test, y_pred, average='weighted'))"
   ]
  },
  {
   "cell_type": "code",
   "execution_count": 25,
   "metadata": {},
   "outputs": [
    {
     "name": "stdout",
     "output_type": "stream",
     "text": [
      "The best XGBoost model is the one with the following hyperparameters:\n",
      "{'alpha': 0.1, 'lambda': 2, 'learning_rate': 0.2}\n"
     ]
    }
   ],
   "source": [
    "# Do a Grid Search for XGBoost Classifier\n",
    "from sklearn.model_selection import GridSearchCV\n",
    "param_grid = {'learning_rate': [0.01, 0.1, 0.2, 0.3], 'lambda': [0.1, 0.5, 1, 2], 'alpha': [0.1, 0.5, 1, 2]}\n",
    "grid_search = GridSearchCV(xgb, param_grid, cv=5, scoring='accuracy')\n",
    "grid_search.fit(X_train, y_train)\n",
    "\n",
    "print(\"The best XGBoost model is the one with the following hyperparameters:\")\n",
    "print(grid_search.best_params_)"
   ]
  },
  {
   "cell_type": "code",
   "execution_count": 26,
   "metadata": {},
   "outputs": [
    {
     "name": "stdout",
     "output_type": "stream",
     "text": [
      "Accuracy: 0.903179190751445\n",
      "F1 Score: 0.9033759644472283\n"
     ]
    }
   ],
   "source": [
    "\"\"\"\n",
    "This script trains an XGBoost classifier on the provided training data and evaluates its performance on the test data.\n",
    "\n",
    "Steps:\n",
    "1. Initializes an XGBoost classifier with specified hyperparameters.\n",
    "2. Fits the classifier to the training data.\n",
    "3. Predicts the labels for the test data.\n",
    "4. Prints the accuracy and weighted F1 score of the predictions.\n",
    "\n",
    "Parameters:\n",
    "- X_train: Training feature set.\n",
    "- y_train: Training labels.\n",
    "- X_test: Test feature set.\n",
    "- y_test: Test labels.\n",
    "\n",
    "Hyperparameters:\n",
    "- learning_rate: Step size shrinkage used to prevent overfitting.\n",
    "- reg_lambda: L2 regularization term on weights.\n",
    "- reg_alpha: L1 regularization term on weights.\n",
    "\n",
    "Outputs:\n",
    "- Accuracy: The proportion of correctly classified instances in the test set.\n",
    "- F1 Score: The weighted average of precision and recall, considering the class imbalance.\n",
    "\"\"\"\n",
    "\n",
    "xgb = XGBClassifier(learning_rate=0.3, reg_lambda=0.1, reg_alpha=0.1) # type: ignore\n",
    "\n",
    "xgb.fit(X_train, y_train)\n",
    "y_pred = xgb.predict(X_test)\n",
    "\n",
    "print('Accuracy:', accuracy_score(y_test, y_pred))\n",
    "print('F1 Score:', f1_score(y_test, y_pred, average='weighted'))"
   ]
  },
  {
   "cell_type": "code",
   "execution_count": 27,
   "metadata": {},
   "outputs": [
    {
     "name": "stdout",
     "output_type": "stream",
     "text": [
      "Comparison of Machine Learning Models:\n",
      "                  Model  Accuracy  F1 Score\n",
      "0        Random Forest  0.895231  0.895202\n",
      "1  K-Nearest Neighbors  0.841522  0.840473\n",
      "2                  SVM  0.741811  0.738876\n",
      "3              XGBoost  0.903179  0.903376\n"
     ]
    }
   ],
   "source": [
    "# Print a table with each model and its accuracy and F1 Score\n",
    "models = ['Random Forest', 'K-Nearest Neighbors', 'SVM', 'XGBoost']\n",
    "accuracies = [accuracy_score(y_test, rf.predict(X_test)), accuracy_score(y_test, knn.predict(X_test)), accuracy_score(y_test, svc.predict(X_test)), accuracy_score(y_test, xgb.predict(X_test))]\n",
    "f1_scores = [f1_score(y_test, rf.predict(X_test), average='weighted'), f1_score(y_test, knn.predict(X_test), average='weighted'), f1_score(y_test, svc.predict(X_test), average='weighted'), f1_score(y_test, xgb.predict(X_test), average='weighted')]\n",
    "results = pd.DataFrame({'Model': models, 'Accuracy': accuracies, 'F1 Score': f1_scores})\n",
    "\n",
    "print(\n",
    "    \"Comparison of Machine Learning Models:\\n\",\n",
    "    results\n",
    ")"
   ]
  },
  {
   "cell_type": "markdown",
   "metadata": {},
   "source": [
    "# Testing test.csv with the best model"
   ]
  },
  {
   "cell_type": "code",
   "execution_count": 28,
   "metadata": {},
   "outputs": [],
   "source": [
    "test = pd.read_csv('./test.csv')\n",
    "\n",
    "# Do all the preprocessing that was done for the training set\n",
    "\n",
    "test['CALC'] = test['CALC'].replace('Always', 'Frequently')\n",
    "id = test['id']\n",
    "test.drop(columns=['id'], inplace=True)\n",
    "\n"
   ]
  },
  {
   "cell_type": "code",
   "execution_count": 29,
   "metadata": {},
   "outputs": [],
   "source": [
    "from sklearn.preprocessing import LabelEncoder\n",
    "\n",
    "columns_to_encode = ['Gender', 'family_history_with_overweight', 'FAVC', 'SMOKE', 'SCC']\n",
    "lE = LabelEncoder()\n",
    "\n",
    "for col in columns_to_encode:\n",
    "    test[col] = lE.fit_transform(test[col])"
   ]
  },
  {
   "cell_type": "code",
   "execution_count": 30,
   "metadata": {},
   "outputs": [],
   "source": [
    "test = pd.get_dummies(test, columns=['MTRANS', 'CAEC', 'CALC'])\n"
   ]
  },
  {
   "cell_type": "code",
   "execution_count": 31,
   "metadata": {},
   "outputs": [],
   "source": [
    "y_pred = xgb.predict(test)"
   ]
  },
  {
   "cell_type": "code",
   "execution_count": 32,
   "metadata": {},
   "outputs": [
    {
     "data": {
      "text/html": [
       "<div>\n",
       "<style scoped>\n",
       "    .dataframe tbody tr th:only-of-type {\n",
       "        vertical-align: middle;\n",
       "    }\n",
       "\n",
       "    .dataframe tbody tr th {\n",
       "        vertical-align: top;\n",
       "    }\n",
       "\n",
       "    .dataframe thead th {\n",
       "        text-align: right;\n",
       "    }\n",
       "</style>\n",
       "<table border=\"1\" class=\"dataframe\">\n",
       "  <thead>\n",
       "    <tr style=\"text-align: right;\">\n",
       "      <th></th>\n",
       "      <th>id</th>\n",
       "      <th>NObeyesdad</th>\n",
       "    </tr>\n",
       "  </thead>\n",
       "  <tbody>\n",
       "    <tr>\n",
       "      <th>0</th>\n",
       "      <td>20758</td>\n",
       "      <td>Normal_Weight</td>\n",
       "    </tr>\n",
       "    <tr>\n",
       "      <th>1</th>\n",
       "      <td>20759</td>\n",
       "      <td>Normal_Weight</td>\n",
       "    </tr>\n",
       "    <tr>\n",
       "      <th>2</th>\n",
       "      <td>20760</td>\n",
       "      <td>Normal_Weight</td>\n",
       "    </tr>\n",
       "    <tr>\n",
       "      <th>3</th>\n",
       "      <td>20761</td>\n",
       "      <td>Normal_Weight</td>\n",
       "    </tr>\n",
       "    <tr>\n",
       "      <th>4</th>\n",
       "      <td>20762</td>\n",
       "      <td>Normal_Weight</td>\n",
       "    </tr>\n",
       "  </tbody>\n",
       "</table>\n",
       "</div>"
      ],
      "text/plain": [
       "      id     NObeyesdad\n",
       "0  20758  Normal_Weight\n",
       "1  20759  Normal_Weight\n",
       "2  20760  Normal_Weight\n",
       "3  20761  Normal_Weight\n",
       "4  20762  Normal_Weight"
      ]
     },
     "execution_count": 32,
     "metadata": {},
     "output_type": "execute_result"
    }
   ],
   "source": [
    "sample_file = pd.read_csv('./sample_submission.csv')\n",
    "sample_file.head()"
   ]
  },
  {
   "cell_type": "code",
   "execution_count": 33,
   "metadata": {},
   "outputs": [],
   "source": [
    "# Map y_pred values according to this {'Insufficient_Weight': 0, 'Normal_Weight': 1, 'Obesity_Type_I': 2, 'Obesity_Type_II': 3, 'Obesity_Type_III': 4, 'Overweight_Level_I': 5, 'Overweight_Level_II': 6}\n",
    "\n",
    "y_pred = pd.Series(y_pred).map({0: 'Insufficient_Weight', 1: 'Normal_Weight', 2: 'Obesity_Type_I', 3: 'Obesity_Type_II', 4: 'Obesity_Type_III', 5: 'Overweight_Level_I', 6: 'Overweight_Level_II'})"
   ]
  },
  {
   "cell_type": "code",
   "execution_count": 34,
   "metadata": {},
   "outputs": [
    {
     "data": {
      "text/html": [
       "<div>\n",
       "<style scoped>\n",
       "    .dataframe tbody tr th:only-of-type {\n",
       "        vertical-align: middle;\n",
       "    }\n",
       "\n",
       "    .dataframe tbody tr th {\n",
       "        vertical-align: top;\n",
       "    }\n",
       "\n",
       "    .dataframe thead th {\n",
       "        text-align: right;\n",
       "    }\n",
       "</style>\n",
       "<table border=\"1\" class=\"dataframe\">\n",
       "  <thead>\n",
       "    <tr style=\"text-align: right;\">\n",
       "      <th></th>\n",
       "      <th>id</th>\n",
       "      <th>NObeyesdad</th>\n",
       "    </tr>\n",
       "  </thead>\n",
       "  <tbody>\n",
       "    <tr>\n",
       "      <th>0</th>\n",
       "      <td>20758</td>\n",
       "      <td>Obesity_Type_II</td>\n",
       "    </tr>\n",
       "    <tr>\n",
       "      <th>1</th>\n",
       "      <td>20759</td>\n",
       "      <td>Overweight_Level_I</td>\n",
       "    </tr>\n",
       "    <tr>\n",
       "      <th>2</th>\n",
       "      <td>20760</td>\n",
       "      <td>Obesity_Type_III</td>\n",
       "    </tr>\n",
       "    <tr>\n",
       "      <th>3</th>\n",
       "      <td>20761</td>\n",
       "      <td>Obesity_Type_I</td>\n",
       "    </tr>\n",
       "    <tr>\n",
       "      <th>4</th>\n",
       "      <td>20762</td>\n",
       "      <td>Obesity_Type_III</td>\n",
       "    </tr>\n",
       "  </tbody>\n",
       "</table>\n",
       "</div>"
      ],
      "text/plain": [
       "      id          NObeyesdad\n",
       "0  20758     Obesity_Type_II\n",
       "1  20759  Overweight_Level_I\n",
       "2  20760    Obesity_Type_III\n",
       "3  20761      Obesity_Type_I\n",
       "4  20762    Obesity_Type_III"
      ]
     },
     "execution_count": 34,
     "metadata": {},
     "output_type": "execute_result"
    }
   ],
   "source": [
    "submission = pd.concat([id, y_pred], axis=1)\n",
    "submission.columns = ['id', 'NObeyesdad']\n",
    "submission.head()"
   ]
  },
  {
   "cell_type": "code",
   "execution_count": 35,
   "metadata": {},
   "outputs": [],
   "source": [
    "submission.to_csv('./submission.csv', index=False)"
   ]
  }
 ],
 "metadata": {
  "kernelspec": {
   "display_name": "Python 3",
   "language": "python",
   "name": "python3"
  },
  "language_info": {
   "codemirror_mode": {
    "name": "ipython",
    "version": 3
   },
   "file_extension": ".py",
   "mimetype": "text/x-python",
   "name": "python",
   "nbconvert_exporter": "python",
   "pygments_lexer": "ipython3",
   "version": "3.10.2"
  }
 },
 "nbformat": 4,
 "nbformat_minor": 2
}
